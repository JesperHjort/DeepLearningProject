{
 "cells": [
  {
   "cell_type": "code",
   "execution_count": 2,
   "metadata": {},
   "outputs": [],
   "source": [
    "import os\n",
    "#source1 = \\\"C:/Users/Christoffer/Deep Learning/Test\n",
    "#dest11 = \\\"C:/Users/Christoffer/Deep Learning/Verf\n",
    "source1 = \"C:/Data/Workspace/GitHub/DeepLearningProject/LocalContent/Datasets/Resized_180/train\"\n",
    "dest11 =  \"C:/Data/Workspace/GitHub/DeepLearningProject/LocalContent/Datasets/Resized_180/verf\"\n",
    "os.makedirs(dest11)\n",
    "folders = os.listdir(source1)\n",
    "import shutil\n",
    "import numpy as np\n",
    "\n",
    "for f in folders:\n",
    "    os.makedirs(dest11 + '/' + f)\n",
    "    files = os.listdir(source1 + '/'+ f)\n",
    "    for i in files:\n",
    "        if np.random.rand(1) <= 0.1:\n",
    "            shutil.move(source1 + '/'+ f + '/' + i, dest11 + '/'+ f + '/' + i)"
   ]
  }
 ],
 "metadata": {
  "kernelspec": {
   "display_name": "Python 3",
   "language": "python",
   "name": "python3"
  },
  "language_info": {
   "codemirror_mode": {
    "name": "ipython",
    "version": 3
   },
   "file_extension": ".py",
   "mimetype": "text/x-python",
   "name": "python",
   "nbconvert_exporter": "python",
   "pygments_lexer": "ipython3",
   "version": "3.5.5"
  }
 },
 "nbformat": 4,
 "nbformat_minor": 2
}
