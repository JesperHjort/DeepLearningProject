{
 "cells": [
  {
   "cell_type": "code",
   "execution_count": 4,
   "metadata": {
    "colab": {
     "autoexec": {
      "startup": false,
      "wait_interval": 0
     }
    },
    "colab_type": "code",
    "id": "IjSTzCpgdnSB"
   },
   "outputs": [],
   "source": [
    "%%capture\n",
    "#!pip install keras==2.1.2 --upgrade\n",
    "\n",
    "# imports\n",
    "from pathlib import Path\n",
    "import getpass\n",
    "from time import time\n",
    "import numpy as np\n",
    "import os \n",
    "import csv\n",
    "import tensorflow as tf\n",
    "import keras\n",
    "from keras import backend as K\n",
    "from keras.preprocessing.image import ImageDataGenerator, img_to_array, load_img\n",
    "from keras.applications.inception_v3 import InceptionV3, preprocess_input\n",
    "from keras.layers import Dense, GlobalAveragePooling2D, Dropout\n",
    "from keras import regularizers\n",
    "from keras.models import Model\n",
    "from keras.optimizers import SGD, Adamax\n",
    "from keras.callbacks import ReduceLROnPlateau, ModelCheckpoint    "
   ]
  },
  {
   "cell_type": "code",
   "execution_count": 5,
   "metadata": {
    "colab": {
     "autoexec": {
      "startup": false,
      "wait_interval": 0
     },
     "base_uri": "https://localhost:8080/",
     "height": 34
    },
    "colab_type": "code",
    "executionInfo": {
     "elapsed": 1438,
     "status": "ok",
     "timestamp": 1525887076057,
     "user": {
      "displayName": "Jesper Nielsen",
      "photoUrl": "https://lh3.googleusercontent.com/a/default-user=s128",
      "userId": "112382223693210927487"
     },
     "user_tz": -120
    },
    "id": "wLrc8vMeweXF",
    "outputId": "a5f41f17-35a4-4cd5-fac4-c9b7b127c569"
   },
   "outputs": [],
   "source": [
    "# commands\n",
    "#!ls \n",
    "#!kill -9 -1\n",
    "#!ps aux | grep tensorboard\n",
    "#!kill -9 169 "
   ]
  },
  {
   "cell_type": "code",
   "execution_count": 6,
   "metadata": {
    "colab": {
     "autoexec": {
      "startup": false,
      "wait_interval": 0
     }
    },
    "colab_type": "code",
    "id": "orIJF6oHNqWe"
   },
   "outputs": [],
   "source": [
    "#!wget --load-cookies /tmp/cookies.txt \"https://docs.google.com/uc?export=download&confirm=$(wget --quiet --save-cookies /tmp/cookies.txt --keep-session-cookies --no-check-certificate 'https://docs.google.com/uc?export=download&id=1wp6LdtNxazu7MiLoSp0cbU4hrGu1v7sg' -O- | sed -rn 's/.*confirm=([0-9A-Za-z_]+).*/\\1\\n/p')&id=1wp6LdtNxazu7MiLoSp0cbU4hrGu1v7sg\" -O Resized_180.tar && rm -rf /tmp/cookies.txt"
   ]
  },
  {
   "cell_type": "code",
   "execution_count": 12,
   "metadata": {
    "colab": {
     "autoexec": {
      "startup": false,
      "wait_interval": 0
     }
    },
    "colab_type": "code",
    "id": "_zRgnbuTdtHC"
   },
   "outputs": [],
   "source": [
    "# configure setup\n",
    "batch_size = 16\n",
    "classes = 12\n",
    "dropout = 0.25\n",
    "kernel_reg = 0.00075\n",
    "dense_size = 2048\n",
    "base_path = 'C:/Data/Workspace/GitHub/DeepLearningProject/LocalContent/Logs/'\n",
    "custom_path = 'Run_v212_400_v1_TestRegFrom_v4'\n",
    "filename = 'Par_T12000_V1000_D2048_L229_B40_Drop0_4_KReg0_2_Lr0_01_minLr1e-09.E28-L0.216-A0.957'\n",
    "# Create path\n",
    "main_path = base_path + custom_path"
   ]
  },
  {
   "cell_type": "code",
   "execution_count": 8,
   "metadata": {
    "colab": {
     "autoexec": {
      "startup": false,
      "wait_interval": 0
     },
     "base_uri": "https://localhost:8080/",
     "height": 88
    },
    "colab_type": "code",
    "executionInfo": {
     "elapsed": 22590,
     "status": "ok",
     "timestamp": 1525887316411,
     "user": {
      "displayName": "Jesper Nielsen",
      "photoUrl": "https://lh3.googleusercontent.com/a/default-user=s128",
      "userId": "112382223693210927487"
     },
     "user_tz": -120
    },
    "id": "pbO7sW05ejAm",
    "outputId": "0921f45f-e56f-43c8-f12e-8c7e55174237"
   },
   "outputs": [
    {
     "name": "stdout",
     "output_type": "stream",
     "text": [
      "Found 3783 images belonging to 12 classes.\n"
     ]
    }
   ],
   "source": [
    "# Configure the loading of data\n",
    "# Image Generator\n",
    "train_datagen = ImageDataGenerator(\n",
    "    preprocessing_function=preprocess_input,\n",
    "    rotation_range=180,\n",
    "    shear_range=0.2,\n",
    "    zoom_range = 0.2,\n",
    "    width_shift_range = 0.2,\n",
    "    height_shift_range = 0.2,\n",
    "    horizontal_flip = True,\n",
    "    vertical_flip = True)\n",
    "\n",
    "train_generator = train_datagen.flow_from_directory(\n",
    "        \"../../LocalContent/Datasets/Resized_400/train\",  # this is the target directory\n",
    "        batch_size=batch_size,\n",
    "        class_mode='categorical') \n",
    "\n",
    "# Configure model\n",
    "# create the base pre-trained model\n",
    "base_model = InceptionV3(weights='imagenet', include_top=False)\n",
    "# add a global spatial average pooling layer\n",
    "x = base_model.output\n",
    "x = GlobalAveragePooling2D()(x)\n",
    "# let's add a dropout layer\n",
    "x = Dropout(rate = dropout)(x)\n",
    "# let's add a fully-connected layer\n",
    "x = Dense(dense_size, activation='relu',kernel_regularizer=regularizers.l2(kernel_reg))(x)\n",
    "# and a logistic layer -- let's say we have 200 classes\n",
    "predictions = Dense(classes, activation='softmax')(x)\n",
    "\n",
    "model = Model(inputs=base_model.input, outputs=predictions)\n",
    "\n",
    "# Load possible weights for the model\n",
    "model.load_weights(main_path + '/' + filename +  '.hdf5')\n",
    "#model.load_weights('drive/' + filename +  '.hdf5')"
   ]
  },
  {
   "cell_type": "code",
   "execution_count": 13,
   "metadata": {
    "colab": {
     "autoexec": {
      "startup": false,
      "wait_interval": 0
     }
    },
    "colab_type": "code",
    "id": "YNj8a6hugLyO"
   },
   "outputs": [],
   "source": [
    "# FUNCTION TO PREDICT TEST DATA AND GENERATING A RESULTING CSV FILE FOR KAGGLE\n",
    "# Read in the test data\n",
    "source =\"../../LocalContent/Datasets/Resized_400/test\"\n",
    "dest = main_path + '/' + filename + '.csv'\n",
    "#dest = 'drive/' + filename + '.csv'\n",
    "test_lbl = os.listdir(source)\n",
    "\n",
    "x_test=[]\n",
    "\n",
    "# Read the images one by one\n",
    "for i in test_lbl:\n",
    "  x = load_img(source + '/'+ i)\n",
    "  x = img_to_array(x)\n",
    "  x_test.append(x)\n",
    "  \n",
    "# Convert to numpy array  \n",
    "x_test = np.array(x_test)\n",
    "\n",
    "# Apply inceptionV3 preprocessing\n",
    "x_test_std = preprocess_input(x_test)\n",
    "\n",
    "# Extract class labels from the training generator\n",
    "class_lbl = list((train_generator.class_indices.keys()))\n",
    "\n",
    "# Do the prediction\n",
    "y_predict = model.predict(x_test_std, batch_size = batch_size)\n",
    "y_predict = y_predict.argmax(axis=-1)\n",
    "\n",
    "# Write csv file \n",
    "f = open(dest, 'wt')\n",
    "try:\n",
    "    writer = csv.writer(f)\n",
    "    writer.writerow( ('file', 'species') )\n",
    "    for i in range(0, len(y_predict)):\n",
    "        writer.writerow( (test_lbl[i], class_lbl[y_predict[i]]) )\n",
    "finally:\n",
    "    f.close()"
   ]
  }
 ],
 "metadata": {
  "colab": {
   "collapsed_sections": [],
   "default_view": {},
   "name": "KerasInceptionV3_Testing.ipynb",
   "provenance": [],
   "version": "0.3.2",
   "views": {}
  },
  "kernelspec": {
   "display_name": "Python 3",
   "language": "python",
   "name": "python3"
  },
  "language_info": {
   "codemirror_mode": {
    "name": "ipython",
    "version": 3
   },
   "file_extension": ".py",
   "mimetype": "text/x-python",
   "name": "python",
   "nbconvert_exporter": "python",
   "pygments_lexer": "ipython3",
   "version": "3.5.5"
  }
 },
 "nbformat": 4,
 "nbformat_minor": 1
}
